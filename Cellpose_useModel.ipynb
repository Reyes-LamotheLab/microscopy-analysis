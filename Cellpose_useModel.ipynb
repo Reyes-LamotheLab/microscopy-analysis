{
  "cells": [
    {
      "cell_type": "markdown",
      "metadata": {},
      "source": [
        "# Running cellpose 2.0 in colab on PC\n",
        "# This notebook is to use a segmentation model \n"
      ]
    },
    {
      "cell_type": "code",
      "execution_count": null,
      "metadata": {
        "colab": {
          "base_uri": "https://localhost:8080/"
        },
        "id": "Tt8hgC7rniP8",
        "outputId": "677fa3d0-952f-4490-f5bb-4ef1ad0b0469"
      },
      "outputs": [],
      "source": [
        "!nvcc --version\n",
        "!nvidia-smi\n",
        "\n",
        "import os, shutil\n",
        "import numpy as np\n",
        "import matplotlib.pyplot as plt\n",
        "from cellpose import core, utils, io, models, metrics\n",
        "from glob import glob\n",
        "\n"
      ]
    },
    {
      "attachments": {},
      "cell_type": "markdown",
      "metadata": {
        "id": "KbVIZbNk5hgR"
      },
      "source": [
        "# Use custom model to segment images\n",
        "\n",
        "Take custom trained model, or upload your own model to google drive / colab runtime.\n",
        "\n",
        "## Parameters"
      ]
    },
    {
      "cell_type": "code",
      "execution_count": 1,
      "metadata": {
        "cellView": "form",
        "id": "vDu4Ixjo588O"
      },
      "outputs": [],
      "source": [
        "# model name and path\n",
        "\n",
        "#@markdown ###Custom model path (full path):\n",
        "\n",
        "model_path = input(\"Enter the path of the model file in your computer:\")   #@param {type:\"string\"}\n",
        "model_path= model_path.replace('\\\\', '/')\n",
        "\n",
        "#@markdown ###Path to images:\n",
        "\n",
        "dir = input(\"Enter the path of the folder that contains the image you want to segment in your computer:\")  #@param {type:\"string\"}\n",
        "dir= dir.replace('\\\\', '/')\n",
        "#@markdown ###Channel Parameters:\n",
        "\n",
        "Channel_to_use_for_segmentation = \"Grayscale\" #@param [\"Grayscale\", \"Blue\", \"Green\", \"Red\"]\n",
        "\n",
        "# @markdown If you have a secondary channel that can be used, for instance nuclei, choose it here:\n",
        "\n",
        "Second_segmentation_channel= \"None\" #@param [\"None\", \"Blue\", \"Green\", \"Red\"]\n",
        "\n",
        "\n",
        "# Here we match the channel to number\n",
        "if Channel_to_use_for_segmentation == \"Grayscale\":\n",
        "  chan = 0\n",
        "elif Channel_to_use_for_segmentation == \"Blue\":\n",
        "  chan = 3\n",
        "elif Channel_to_use_for_segmentation == \"Green\":\n",
        "  chan = 2\n",
        "elif Channel_to_use_for_segmentation == \"Red\":\n",
        "  chan = 1\n",
        "\n",
        "\n",
        "if Second_segmentation_channel == \"Blue\":\n",
        "  chan2 = 3\n",
        "elif Second_segmentation_channel == \"Green\":\n",
        "  chan2 = 2\n",
        "elif Second_segmentation_channel == \"Red\":\n",
        "  chan2 = 1\n",
        "elif Second_segmentation_channel == \"None\":\n",
        "  chan2 = 0\n",
        "\n",
        "#@markdown ### Segmentation parameters:\n",
        "\n",
        "#@markdown diameter of cells (set to zero to use diameter from training set):\n",
        "diameter =  9 #@param {type:\"number\"}\n",
        "#@markdown threshold on flow error to accept a mask (set higher to get more cells, e.g. in range from (0.1, 3.0), OR set to 0.0 to turn off so no cells discarded):\n",
        "flow_threshold = 1 #@param {type:\"slider\", min:0.0, max:3.0, step:0.1}\n",
        "#@markdown threshold on cellprob output to seed cell masks (set lower to include more pixels or higher to include fewer, e.g. in range from (-6, 6)):\n",
        "cellprob_threshold=-6 #@param {type:\"slider\", min:-6, max:6, step:1}\n"
      ]
    },
    {
      "attachments": {},
      "cell_type": "markdown",
      "metadata": {
        "id": "QN3rdsfMBc_8"
      },
      "source": [
        "## run custom model\n",
        "\n",
        "how to run the custom model in a notebook"
      ]
    },
    {
      "cell_type": "code",
      "execution_count": 47,
      "metadata": {
        "colab": {
          "base_uri": "https://localhost:8080/"
        },
        "id": "gCcbs722BYd0",
        "outputId": "b7de466b-4e7a-4585-b1d7-c282593b3fab"
      },
      "outputs": [
        {
          "name": "stdout",
          "output_type": "stream",
          "text": [
            "['E:/Microscopy/Rawdates/20230510_DnaQ-Halo_Mutants4/Images/seg/wt\\\\_DnaQ_Halo_wt_20m_100ms_int_18per_561_03_seg.tif', 'E:/Microscopy/Rawdates/20230510_DnaQ-Halo_Mutants4/Images/seg/wt\\\\_DnaQ_Halo_wt_20m_100ms_int_18per_561_06_seg.tif', 'E:/Microscopy/Rawdates/20230510_DnaQ-Halo_Mutants4/Images/seg/wt\\\\_DnaQ_Halo_wt_20m_100ms_int_18per_561_09_seg.tif', 'E:/Microscopy/Rawdates/20230510_DnaQ-Halo_Mutants4/Images/seg/wt\\\\_DnaQ_Halo_wt_300ms_int_3per_561_03_seg.tif', 'E:/Microscopy/Rawdates/20230510_DnaQ-Halo_Mutants4/Images/seg/wt\\\\_DnaQ_Halo_wt_300ms_int_3per_561_06_seg.tif', 'E:/Microscopy/Rawdates/20230510_DnaQ-Halo_Mutants4/Images/seg/wt\\\\_DnaQ_Halo_wt_300ms_int_3per_561_09_seg.tif', 'E:/Microscopy/Rawdates/20230510_DnaQ-Halo_Mutants4/Images/seg/wt\\\\_DnaQ_Halo_wt_300ms_int_3per_561_12_seg.tif', 'E:/Microscopy/Rawdates/20230510_DnaQ-Halo_Mutants4/Images/seg/wt\\\\_DnaQ_Halo_wt_300ms_int_3per_561_15_seg.tif']\n"
          ]
        }
      ],
      "source": [
        "# gets image files in dir (ignoring image files ending in _masks)\n",
        "files = io.get_image_files(dir, '_masks')\n",
        "print(files)\n",
        "images = [io.imread(f) for f in files]\n",
        "\n",
        "# declare model\n",
        "model = models.CellposeModel(gpu=True, \n",
        "                             pretrained_model=model_path)\n",
        "\n",
        "# use model diameter if user diameter is 0\n",
        "diameter = model.diam_labels if diameter==0 else diameter\n",
        "\n",
        "# run model on test images\n",
        "masks, flows, styles = model.eval(images, \n",
        "                                  channels=[chan, chan2],\n",
        "                                  diameter=diameter,\n",
        "                                  flow_threshold=flow_threshold,\n",
        "                                  cellprob_threshold=cellprob_threshold\n",
        "                                  )"
      ]
    },
    {
      "attachments": {},
      "cell_type": "markdown",
      "metadata": {
        "id": "qj5AIZ825o7P"
      },
      "source": [
        "## save output to *_seg.npy\n",
        "\n",
        "you will see the files save in the Files tab and you can download them from there"
      ]
    },
    {
      "cell_type": "code",
      "execution_count": 48,
      "metadata": {
        "id": "qc7EWe_f5oEH"
      },
      "outputs": [],
      "source": [
        "from cellpose import io\n",
        "\n",
        "io.masks_flows_to_seg(images, \n",
        "                      masks, \n",
        "                      flows, \n",
        "                      diameter*np.ones(len(masks)), \n",
        "                      files, \n",
        "                      [chan, chan2])"
      ]
    },
    {
      "attachments": {},
      "cell_type": "markdown",
      "metadata": {
        "id": "hwoUuuarC9V5"
      },
      "source": [
        "## save output masks to tiffs/pngs or txt files for imageJ"
      ]
    },
    {
      "cell_type": "code",
      "execution_count": 49,
      "metadata": {
        "id": "Da-Rtx09DEZB"
      },
      "outputs": [],
      "source": [
        "io.save_masks(images, \n",
        "              masks, \n",
        "              flows, \n",
        "              files, \n",
        "              channels=[chan, chan2],\n",
        "              png=True, # save masks as PNGs and save example image\n",
        "              tif=True, # save masks as TIFFs\n",
        "              save_txt=True, # save txt outlines for ImageJ\n",
        "              save_flows=False, # save flows as TIFFs\n",
        "              save_outlines=False, # save outlines as TIFFs \n",
        "              )\n",
        "    "
      ]
    }
  ],
  "metadata": {
    "accelerator": "GPU",
    "colab": {
      "include_colab_link": true,
      "provenance": []
    },
    "gpuClass": "standard",
    "kernelspec": {
      "display_name": "Python 3",
      "language": "python",
      "name": "python3"
    },
    "language_info": {
      "codemirror_mode": {
        "name": "ipython",
        "version": 3
      },
      "file_extension": ".py",
      "mimetype": "text/x-python",
      "name": "python",
      "nbconvert_exporter": "python",
      "pygments_lexer": "ipython3",
      "version": "3.8.17"
    }
  },
  "nbformat": 4,
  "nbformat_minor": 0
}
